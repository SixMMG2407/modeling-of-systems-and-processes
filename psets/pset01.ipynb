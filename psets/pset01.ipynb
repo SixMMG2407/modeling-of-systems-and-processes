{
 "cells": [
  {
   "attachments": {},
   "cell_type": "markdown",
   "metadata": {},
   "source": [
    "## Problem set 01"
   ]
  },
  {
   "attachments": {},
   "cell_type": "markdown",
   "metadata": {},
   "source": [
    "1. Find the size of the power set of the group of people attending to this class (15 students + 1 instructor)"
   ]
  },
  {
   "cell_type": "code",
   "execution_count": 2,
   "metadata": {},
   "outputs": [
    {
     "name": "stdout",
     "output_type": "stream",
     "text": [
      "El power_set de la clase es: 65536\n"
     ]
    }
   ],
   "source": [
    "# Your answer here:\n",
    "# Segun lo revisado en: https://byjus.com/maths/power-set/\n",
    "estudiantes = 15\n",
    "instrutuctor = 1\n",
    "\n",
    "n = estudiantes + instrutuctor\n",
    "power_set = pow (2,n)\n",
    "print(\"El power_set de la clase es:\", power_set )"
   ]
  },
  {
   "attachments": {},
   "cell_type": "markdown",
   "metadata": {},
   "source": [
    "2. Explain (by means of an example) the running time of the flexible greedy algorithm"
   ]
  },
  {
   "cell_type": "code",
   "execution_count": null,
   "metadata": {},
   "outputs": [],
   "source": [
    "# Your answer here:\n",
    "#"
   ]
  },
  {
   "attachments": {},
   "cell_type": "markdown",
   "metadata": {},
   "source": [
    "3. Write a function that simulates drafting a card from a full deck\n",
    "\n",
    "(Recall: a full deck has \n",
    "\n",
    "4 suits: &#9824; &#9825; &#9827; &#9826;\n",
    "\n",
    "13 ranks: 2, 3, ..., 9, 10, J, Q, K, A)"
   ]
  },
  {
   "cell_type": "code",
   "execution_count": null,
   "metadata": {},
   "outputs": [],
   "source": [
    "# Your answer here:\n"
   ]
  },
  {
   "attachments": {},
   "cell_type": "markdown",
   "metadata": {},
   "source": [
    "4. Use the function from the previous exercise to experimentally calculate the probability of drafting a figure (J, Q, K)"
   ]
  },
  {
   "cell_type": "code",
   "execution_count": null,
   "metadata": {},
   "outputs": [],
   "source": [
    "# Your answer here:\n"
   ]
  },
  {
   "attachments": {},
   "cell_type": "markdown",
   "metadata": {},
   "source": [
    "5. Calculate, either analytically or experimentally, the probability of obtaining one-pair when drafting three cards from a full deck (recall: one-pair consists of two cards having one rank and the remaining card having other rank)"
   ]
  },
  {
   "cell_type": "code",
   "execution_count": 1,
   "metadata": {},
   "outputs": [],
   "source": [
    "# Your answer here:\n"
   ]
  },
  {
   "cell_type": "code",
   "execution_count": null,
   "metadata": {},
   "outputs": [],
   "source": []
  }
 ],
 "metadata": {
  "kernelspec": {
   "display_name": ".venv",
   "language": "python",
   "name": "python3"
  },
  "language_info": {
   "codemirror_mode": {
    "name": "ipython",
    "version": 3
   },
   "file_extension": ".py",
   "mimetype": "text/x-python",
   "name": "python",
   "nbconvert_exporter": "python",
   "pygments_lexer": "ipython3",
   "version": "3.11.3"
  },
  "orig_nbformat": 4
 },
 "nbformat": 4,
 "nbformat_minor": 2
}
