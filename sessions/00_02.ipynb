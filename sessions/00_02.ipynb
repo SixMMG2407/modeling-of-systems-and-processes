{
  "cells": [
    {
      "cell_type": "code",
      "execution_count": null,
      "metadata": {
        "colab": {},
        "colab_type": "code",
        "id": "qglfn6n3iTs5"
      },
      "outputs": [],
      "source": [
        "from matplotlib import pyplot as plt\n",
        "from matplotlib_venn import venn2"
      ]
    },
    {
      "cell_type": "code",
      "execution_count": null,
      "metadata": {
        "colab": {
          "base_uri": "https://localhost:8080/",
          "height": 201
        },
        "colab_type": "code",
        "id": "_T_WC0_siiWR",
        "outputId": "11d03475-5783-46ab-cab1-113ba6ab4078"
      },
      "outputs": [],
      "source": [
        "venn2( (1/2, 1/2, 0), set_labels = ('Head', 'Tail') )"
      ]
    },
    {
      "cell_type": "code",
      "execution_count": null,
      "metadata": {
        "colab": {
          "base_uri": "https://localhost:8080/",
          "height": 35
        },
        "colab_type": "code",
        "id": "fy9QU3Ch7Ivg",
        "outputId": "b84f4e43-51af-4e79-ae49-0b20f7cc84a2"
      },
      "outputs": [],
      "source": [
        "# Library to generate random numbers\n",
        "import random\n",
        "\n",
        "# Simulation\n",
        "result= []\n",
        "\n",
        "for toss in range(10000):\n",
        "   coin = random.choice(['Head', 'Tail']) \n",
        "   result.append(coin)\n",
        "\n",
        "result.count('Tail')"
      ]
    },
    {
      "cell_type": "code",
      "execution_count": null,
      "metadata": {
        "colab": {},
        "colab_type": "code",
        "id": "8AMmXrrYFNak"
      },
      "outputs": [],
      "source": [
        "# Simulation\n",
        "n=1\n",
        "prob=[]\n",
        "flip=[]\n",
        "\n",
        "while n < 2000:\n",
        "    head = 0\n",
        "    tail = 0\n",
        "\n",
        "    for i in range(n):\n",
        "        if random.randint(0,1) == 0:\n",
        "            head+=1 \n",
        "        else:\n",
        "            tail+=1\n",
        "\n",
        "    k = head/(head+tail)\n",
        "    prob.append(k)\n",
        "    flip.append(n)\n",
        "    n+= 1"
      ]
    },
    {
      "cell_type": "code",
      "execution_count": null,
      "metadata": {
        "colab": {
          "base_uri": "https://localhost:8080/",
          "height": 542
        },
        "colab_type": "code",
        "id": "vypnqmjsHDaM",
        "outputId": "88de8bdf-d705-4bc5-9213-c066bc6aabcb"
      },
      "outputs": [],
      "source": [
        "# Plot chart\n",
        "import plotly.express as px\n",
        "fig = px.scatter( x = flip, y = prob,\n",
        "             labels={\"x\": \"Number of Flips\",\n",
        "                     \"y\": \"Probability of Heads\"} )\n",
        "\n",
        "# Horizontal Line\n",
        "fig.update_layout( shapes = [\n",
        "    dict(\n",
        "      type= 'line',\n",
        "      yref= 'y', y0= 0.5, y1= 0.5,\n",
        "      xref= 'x', x0= 0, x1= 2000    )])\n",
        "                \n",
        "                \n",
        "fig.show()"
      ]
    },
    {
      "attachments": {},
      "cell_type": "markdown",
      "metadata": {},
      "source": [
        "### References\n",
        "Diez, D. M., Barr, C. D., & Cetinkaya-Rundel, M. (2014). Introductory Statistics With Randomization and Simulation , OpenIntro."
      ]
    }
  ],
  "metadata": {
    "colab": {
      "name": "1)_Foundations_of_Probability.ipynb",
      "provenance": []
    },
    "kernelspec": {
      "display_name": "Python 3",
      "language": "python",
      "name": "python3"
    },
    "language_info": {
      "codemirror_mode": {
        "name": "ipython",
        "version": 3
      },
      "file_extension": ".py",
      "mimetype": "text/x-python",
      "name": "python",
      "nbconvert_exporter": "python",
      "pygments_lexer": "ipython3",
      "version": "3.11.3"
    }
  },
  "nbformat": 4,
  "nbformat_minor": 0
}
