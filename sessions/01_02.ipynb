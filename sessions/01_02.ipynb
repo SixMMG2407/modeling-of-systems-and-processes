{
 "cells": [
  {
   "cell_type": "code",
   "execution_count": null,
   "metadata": {},
   "outputs": [],
   "source": [
    "import pandas as pd\n",
    "import numpy as np\n",
    "import matplotlib.pyplot as plt\n",
    "import seaborn as sns\n",
    "from scipy.stats import norm, lognorm, gamma, weibull_min, probplot"
   ]
  },
  {
   "cell_type": "code",
   "execution_count": null,
   "metadata": {},
   "outputs": [],
   "source": [
    "import ssl\n",
    "\n",
    "ssl._create_default_https_context = ssl._create_unverified_context"
   ]
  },
  {
   "cell_type": "code",
   "execution_count": null,
   "metadata": {},
   "outputs": [],
   "source": [
    "# Load the tips dataset\n",
    "tips = sns.load_dataset('tips')"
   ]
  },
  {
   "cell_type": "code",
   "execution_count": null,
   "metadata": {},
   "outputs": [],
   "source": [
    "# Compute the sample mean and standard deviation of the total bill amount\n",
    "mean = tips['total_bill'].mean()\n",
    "std = tips['total_bill'].std()\n",
    "print(\"Mean:\", mean)\n",
    "print(\"Standard Deviation:\", std)"
   ]
  },
  {
   "cell_type": "code",
   "execution_count": null,
   "metadata": {},
   "outputs": [],
   "source": [
    "sns.histplot(tips['total_bill'], kde=True)\n",
    "plt.show()"
   ]
  },
  {
   "cell_type": "code",
   "execution_count": null,
   "metadata": {},
   "outputs": [],
   "source": [
    "# mean, std = norm.fit(tips['total_bill'])\n",
    "# print(\"Mean:\", mean)\n",
    "# print(\"Standard Deviation:\", std)"
   ]
  },
  {
   "cell_type": "code",
   "execution_count": null,
   "metadata": {},
   "outputs": [],
   "source": [
    "prob = norm.cdf(20, mean, std)\n",
    "print(\"Probability of bill less than $20:\", prob)"
   ]
  },
  {
   "cell_type": "code",
   "execution_count": null,
   "metadata": {},
   "outputs": [],
   "source": [
    "res = probplot(tips['total_bill'], plot=plt)\n",
    "plt.show()"
   ]
  },
  {
   "cell_type": "code",
   "execution_count": null,
   "metadata": {},
   "outputs": [],
   "source": [
    "# Fit the lognormal distribution to the total bill amount\n",
    "lognorm_shape, lognorm_loc, lognorm_scale = lognorm.fit(tips['total_bill'])"
   ]
  },
  {
   "cell_type": "code",
   "execution_count": null,
   "metadata": {},
   "outputs": [],
   "source": [
    "# Fit the gamma distribution to the total bill amount\n",
    "gamma_shape, gamma_loc, gamma_scale = gamma.fit(tips['total_bill'])"
   ]
  },
  {
   "cell_type": "code",
   "execution_count": null,
   "metadata": {},
   "outputs": [],
   "source": [
    "# Fit the Weibull distribution to the total bill amount\n",
    "weibull_shape, weibull_loc, weibull_scale = weibull_min.fit(tips['total_bill'])"
   ]
  },
  {
   "cell_type": "code",
   "execution_count": null,
   "metadata": {},
   "outputs": [],
   "source": [
    "# Calculate AIC for normal distribution\n",
    "nll_normal = -norm.logpdf(tips['total_bill'], mean, std).sum()\n",
    "aic_normal = 2 * (2 + 1) - 2 * nll_normal\n",
    "print(\"AIC for normal distribution:\", aic_normal)"
   ]
  },
  {
   "cell_type": "code",
   "execution_count": null,
   "metadata": {},
   "outputs": [],
   "source": [
    "# Calculate AIC for lognormal distribution\n",
    "nll_lognorm = -lognorm.logpdf(tips['total_bill'], lognorm_shape, lognorm_loc, lognorm_scale).sum()\n",
    "aic_lognorm = 2 * (3 + 1) - 2 * nll_lognorm\n",
    "print(\"AIC for lognormal distribution:\", aic_lognorm)"
   ]
  },
  {
   "cell_type": "code",
   "execution_count": null,
   "metadata": {},
   "outputs": [],
   "source": [
    "# Calculate AIC for gamma distribution\n",
    "nll_gamma = -gamma.logpdf(tips['total_bill'], gamma_shape, gamma_loc, gamma_scale).sum()\n",
    "aic_gamma = 2 * (3 + 1) - 2 * nll_gamma\n",
    "print(\"AIC for gamma distribution:\", aic_gamma)"
   ]
  },
  {
   "cell_type": "code",
   "execution_count": null,
   "metadata": {},
   "outputs": [],
   "source": [
    "# Calculate AIC for Weibull distribution\n",
    "nll_weibull = -weibull_min.logpdf(tips['total_bill'], weibull_shape, weibull_loc, weibull_scale).sum()\n",
    "aic_weibull = 2 * (3 + 1) - 2 * nll_weibull\n",
    "print(\"AIC for Weibull distribution:\", aic_weibull)"
   ]
  }
 ],
 "metadata": {
  "kernelspec": {
   "display_name": ".venv",
   "language": "python",
   "name": "python3"
  },
  "language_info": {
   "codemirror_mode": {
    "name": "ipython",
    "version": 3
   },
   "file_extension": ".py",
   "mimetype": "text/x-python",
   "name": "python",
   "nbconvert_exporter": "python",
   "pygments_lexer": "ipython3",
   "version": "3.11.3"
  },
  "orig_nbformat": 4
 },
 "nbformat": 4,
 "nbformat_minor": 2
}
